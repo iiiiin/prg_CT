{
 "cells": [
  {
   "cell_type": "code",
   "execution_count": null,
   "metadata": {},
   "outputs": [],
   "source": [
    "# 출처: 프로그래머스 코딩 테스트 연습\n",
    "# https://school.programmers.co.kr/learn/challenges"
   ]
  },
  {
   "cell_type": "code",
   "execution_count": 1,
   "metadata": {},
   "outputs": [],
   "source": [
    "# 짝수와 홀수\n",
    "\n",
    "def solution(num):\n",
    "    if num % 2 == 0:\n",
    "        answer = \"Even\"\n",
    "    else:\n",
    "        answer = \"Odd\"\n",
    "    return answer"
   ]
  },
  {
   "cell_type": "code",
   "execution_count": null,
   "metadata": {},
   "outputs": [],
   "source": [
    "# x만큼 간격이 잇는 n개의 숫자\n",
    "\n",
    "def solution(x, n):\n",
    "    answer = [x+x*i for i in range(n)]\n",
    "    return answer"
   ]
  },
  {
   "cell_type": "code",
   "execution_count": 55,
   "metadata": {},
   "outputs": [],
   "source": [
    "# 자연수 뒤집어 배열로 만들기\n",
    "\n",
    "def solution(n):\n",
    "    answer = list(map(int, list(str(n)[::-1])))\n",
    "    return answer"
   ]
  },
  {
   "cell_type": "code",
   "execution_count": 17,
   "metadata": {},
   "outputs": [],
   "source": [
    "# 수박수박수박수박수박수?\n",
    "\n",
    "def solution(n):\n",
    "    answer = ''\n",
    "    for i in range(n):\n",
    "        if i % 2 == 0:\n",
    "            answer += \"수\"\n",
    "        else:\n",
    "            answer += \"박\"\n",
    "    return answer"
   ]
  },
  {
   "cell_type": "code",
   "execution_count": 28,
   "metadata": {},
   "outputs": [],
   "source": [
    "# 없는 숫자 더하기\n",
    "\n",
    "def solution(numbers):\n",
    "    answer = 0\n",
    "    for i in range(10):\n",
    "        if i not in numbers:\n",
    "            answer += i\n",
    "    return answer"
   ]
  },
  {
   "cell_type": "code",
   "execution_count": null,
   "metadata": {},
   "outputs": [],
   "source": [
    "# 음양 더하기\n",
    "\n",
    "def solution(absolutes, signs):\n",
    "    answer = 0\n",
    "    for i in range(len(absolutes)):\n",
    "        if signs[i] == True:\n",
    "            answer += absolutes[i]\n",
    "        else:\n",
    "            answer -= absolutes[i]\n",
    "    return answer"
   ]
  },
  {
   "cell_type": "code",
   "execution_count": null,
   "metadata": {},
   "outputs": [],
   "source": [
    "# 정수 내림차순으로 배치하기\n",
    "\n",
    "def solution(n):\n",
    "    answer = int(\"\".join(map(str, sorted(list(map(int,list(str(n)))),reverse=True))))\n",
    "    return answer"
   ]
  },
  {
   "cell_type": "code",
   "execution_count": null,
   "metadata": {},
   "outputs": [],
   "source": [
    "# 서울에서 김서방 찾기\n",
    "\n",
    "def solution(seoul):\n",
    "    for i in range(len(seoul)):\n",
    "        if seoul[i] == \"Kim\":\n",
    "            loc = i\n",
    "            break\n",
    "    answer = f'김서방은 {loc}에 있다'\n",
    "    return answer"
   ]
  },
  {
   "cell_type": "code",
   "execution_count": null,
   "metadata": {},
   "outputs": [],
   "source": [
    "# 문자열 내 p와 y의 개수\n",
    "\n",
    "def solution(s):\n",
    "    s = s.upper()\n",
    "    if s.count(\"P\") == s.count(\"Y\"):\n",
    "        answer = True\n",
    "    else:\n",
    "        answer = False\n",
    "    return answer"
   ]
  },
  {
   "cell_type": "code",
   "execution_count": null,
   "metadata": {},
   "outputs": [],
   "source": [
    "# 정수 제곱근 판별\n",
    "\n",
    "import math\n",
    "\n",
    "def solution(n):\n",
    "    if math.sqrt(n) - int(math.sqrt(n)) == 0:\n",
    "        answer = (math.sqrt(n) + 1)**2\n",
    "    else:\n",
    "        answer = -1\n",
    "    return answer"
   ]
  },
  {
   "cell_type": "code",
   "execution_count": null,
   "metadata": {},
   "outputs": [],
   "source": [
    "# 하샤드 수\n",
    "\n",
    "def solution(x):\n",
    "    xsum = sum(map(int, list(str(x))))\n",
    "    if x % xsum == 0:\n",
    "        answer = True\n",
    "    else:\n",
    "        answer = False\n",
    "    return answer"
   ]
  },
  {
   "cell_type": "code",
   "execution_count": null,
   "metadata": {},
   "outputs": [],
   "source": [
    "# 콜라츠 추측\n",
    "\n",
    "def solution(num):\n",
    "    count = 0\n",
    "    if num == 1:\n",
    "        return 0\n",
    "    for _ in range(500):\n",
    "        count += 1\n",
    "        if num % 2 == 0:\n",
    "            num = num // 2\n",
    "        else:\n",
    "            num = num * 3 + 1\n",
    "        if num == 1:\n",
    "            return count\n",
    "    return -1"
   ]
  },
  {
   "cell_type": "code",
   "execution_count": 72,
   "metadata": {},
   "outputs": [],
   "source": [
    "# 가운데 글자 가져오기\n",
    "\n",
    "def solution(s):\n",
    "    answer = ''\n",
    "    if len(s) % 2 == 0:\n",
    "        answer = s[len(s)//2-1:len(s)//2+1]\n",
    "    else:\n",
    "        answer = s[len(s)//2]\n",
    "    return answer"
   ]
  },
  {
   "cell_type": "code",
   "execution_count": null,
   "metadata": {},
   "outputs": [],
   "source": [
    "# 내적\n",
    "\n",
    "def solution(a, b):\n",
    "    answer = 0\n",
    "    for i in range(len(a)):\n",
    "        answer += a[i]*b[i]\n",
    "    return answer"
   ]
  },
  {
   "cell_type": "code",
   "execution_count": null,
   "metadata": {},
   "outputs": [],
   "source": [
    "# 문자열 다루기 기본\n",
    "\n",
    "def solution(s):\n",
    "    answer = True\n",
    "    if (len(s) == 4 or len(s) == 6) and s.isdigit() == True:\n",
    "        answer = True\n",
    "    else:\n",
    "        answer = False\n",
    "    return answer"
   ]
  },
  {
   "cell_type": "code",
   "execution_count": 11,
   "metadata": {},
   "outputs": [],
   "source": [
    "# 약수의 개수와 덧셈\n",
    "\n",
    "def solution(left, right):\n",
    "    answer = 0\n",
    "    for i in range(left,right+1):\n",
    "        count = 0\n",
    "        for j in range(1,i+1):\n",
    "            if i % j == 0:\n",
    "                count += 1\n",
    "        if count % 2 == 0:\n",
    "            answer += i\n",
    "        else:\n",
    "            answer -= i\n",
    "    return answer"
   ]
  },
  {
   "cell_type": "code",
   "execution_count": null,
   "metadata": {},
   "outputs": [],
   "source": [
    "# 문자열 내림차순으로 배치하기\n",
    "\n",
    "def solution(s):\n",
    "    s = sorted(list(s),reverse=True)\n",
    "    answer = ''.join(s)\n",
    "    return answer"
   ]
  },
  {
   "cell_type": "code",
   "execution_count": 23,
   "metadata": {},
   "outputs": [
    {
     "name": "stdout",
     "output_type": "stream",
     "text": [
      "*****\n",
      "*****\n",
      "*****\n"
     ]
    }
   ],
   "source": [
    "# 직사각형 별찍기\n",
    "\n",
    "a, b = map(int, input().strip().split(' '))\n",
    "for _ in range(b):\n",
    "    print(\"*\"*a)"
   ]
  },
  {
   "cell_type": "code",
   "execution_count": 16,
   "metadata": {},
   "outputs": [],
   "source": [
    "# 달리기 경주\n",
    "\n",
    "def solution(players, callings):\n",
    "    rank_dic = {}\n",
    "    for i in range(len(players)):\n",
    "        rank_dic[players[i]] = i\n",
    "    for j in range(len(callings)):\n",
    "        players[rank_dic[callings[j]]-1], players[rank_dic[callings[j]]] = \\\n",
    "        players[rank_dic[callings[j]]], players[rank_dic[callings[j]]-1]\n",
    "        rank_dic[players[rank_dic[callings[j]]]] += 1\n",
    "        rank_dic[callings[j]] -= 1\n",
    "    answer = players\n",
    "    return answer"
   ]
  },
  {
   "cell_type": "code",
   "execution_count": null,
   "metadata": {},
   "outputs": [],
   "source": [
    "# 추억 점수\n",
    "\n",
    "def solution(name, yearning, photo):\n",
    "    answer = []\n",
    "    dic = {}\n",
    "    for i in range(len(name)):\n",
    "        dic[name[i]] = yearning[i]\n",
    "    for j in range(len(photo)):\n",
    "        score = 0\n",
    "        for k in photo[j]:\n",
    "            if k not in name:\n",
    "                score += 0\n",
    "            else:\n",
    "                score += dic[k]\n",
    "        answer.append(score)\n",
    "    return answer"
   ]
  },
  {
   "cell_type": "code",
   "execution_count": 39,
   "metadata": {},
   "outputs": [],
   "source": [
    "# 이상한 문자 만들기\n",
    "\n",
    "def solution(s):\n",
    "    answer = ''\n",
    "    count = 0\n",
    "    for i in range(len(s)):\n",
    "        if s[i].isalpha() == True:\n",
    "            if count % 2 != 0:\n",
    "                answer += s[i].lower()\n",
    "                count += 1\n",
    "            else:\n",
    "                answer += s[i].upper()\n",
    "                count += 1\n",
    "        else:\n",
    "            answer += s[i]\n",
    "            count = 0\n",
    "    return answer"
   ]
  },
  {
   "cell_type": "code",
   "execution_count": 70,
   "metadata": {},
   "outputs": [],
   "source": [
    "# 숫자 문자열과 영단어\n",
    "\n",
    "def solution(s):\n",
    "    answer = ''\n",
    "    numdic = {}\n",
    "    numstr = ['zero','one','two','three','four','five','six','seven','eight','nine']\n",
    "    for i in range(len(numstr)):\n",
    "        numdic[numstr[i]] = i\n",
    "    for j in numstr:\n",
    "        if j in s:\n",
    "            s = s.replace(j,str(numdic[j]))\n",
    "    answer = int(s)\n",
    "    return answer"
   ]
  },
  {
   "cell_type": "code",
   "execution_count": 73,
   "metadata": {},
   "outputs": [],
   "source": [
    "# 부족한 금액 계산하기\n",
    "\n",
    "def solution(price, money, count):\n",
    "    cost = money - (price*(sum(range(1,count+1))))\n",
    "    if cost >= 0:\n",
    "        answer = 0\n",
    "    else:\n",
    "        answer = (-1)*cost\n",
    "    return answer"
   ]
  },
  {
   "cell_type": "code",
   "execution_count": 88,
   "metadata": {},
   "outputs": [],
   "source": [
    "# 최대공약수와 최소공배수\n",
    "\n",
    "def solution(n, m):\n",
    "    for i in range(1,m+1):\n",
    "        if m % i == 0 and n % i == 0:\n",
    "            maxdiv = i\n",
    "    for j in range(1,n*m+1):\n",
    "        if (j // n >= 1 and j // m >= 1) and \\\n",
    "            (j % n == 0 and j % m == 0):\n",
    "            minprod = j\n",
    "            break\n",
    "    answer = [maxdiv, minprod]\n",
    "    return answer"
   ]
  },
  {
   "cell_type": "code",
   "execution_count": 91,
   "metadata": {},
   "outputs": [],
   "source": [
    "# 같은 숫자는 싫어\n",
    "\n",
    "def solution(arr):\n",
    "    answer = []\n",
    "    answer.append(arr[0])\n",
    "    for i in range(len(arr)):\n",
    "        if i > 0 and arr[i-1] != arr[i]:\n",
    "            answer.append(arr[i])\n",
    "    return answer"
   ]
  },
  {
   "cell_type": "code",
   "execution_count": 16,
   "metadata": {},
   "outputs": [],
   "source": [
    "# 3진법 뒤집기\n",
    "\n",
    "def solution(n):\n",
    "    answer = 0\n",
    "    content = ''\n",
    "    while True:\n",
    "        if n // 3 == 0:\n",
    "            content += str(n)\n",
    "            break\n",
    "        content += str(n%3)\n",
    "        n //= 3\n",
    "    print(content)\n",
    "    for i in range(len(content)):\n",
    "        answer += int(content[i])*3**(len(content)-i-1)\n",
    "    return answer"
   ]
  },
  {
   "cell_type": "code",
   "execution_count": 10,
   "metadata": {},
   "outputs": [],
   "source": [
    "# 두 개 뽑아서 더하기\n",
    "\n",
    "def solution(numbers):\n",
    "    answer = []\n",
    "    for i in range(len(numbers)):\n",
    "        for j in numbers[i+1:]:\n",
    "            answer.append(numbers[i]+j)\n",
    "    answer = sorted(list(set(answer)))\n",
    "    return answer"
   ]
  },
  {
   "cell_type": "code",
   "execution_count": 19,
   "metadata": {},
   "outputs": [],
   "source": [
    "# 문자열 내 마음대로 정렬하기\n",
    "\n",
    "def solution(strings, n):\n",
    "    answer = sorted(strings, key=lambda x : (x[n],x))\n",
    "    return answer"
   ]
  },
  {
   "cell_type": "code",
   "execution_count": 9,
   "metadata": {},
   "outputs": [],
   "source": [
    "# 크기가 작은 부분 문자열\n",
    "\n",
    "def solution(t, p):\n",
    "    answer = 0\n",
    "    for i in range(len(t)-len(p)+1):\n",
    "        if int(p) >= int(t[i:i+len(p)]):\n",
    "            answer += 1\n",
    "    return answer"
   ]
  },
  {
   "cell_type": "code",
   "execution_count": 3,
   "metadata": {},
   "outputs": [],
   "source": [
    "# 예산\n",
    "\n",
    "def solution(d, budget):\n",
    "    answer = 0\n",
    "    d.sort()\n",
    "    for i in d:\n",
    "        if budget < i:\n",
    "            break\n",
    "        budget -= i\n",
    "        answer += 1\n",
    "    return answer"
   ]
  },
  {
   "cell_type": "code",
   "execution_count": 67,
   "metadata": {},
   "outputs": [],
   "source": [
    "# 삼총사\n",
    "\n",
    "from itertools import combinations\n",
    "\n",
    "def solution(number):\n",
    "    answer = 0\n",
    "    for i in combinations(number,3):\n",
    "        if sum(i) == 0:\n",
    "            answer += 1\n",
    "    return answer"
   ]
  },
  {
   "cell_type": "code",
   "execution_count": 132,
   "metadata": {},
   "outputs": [],
   "source": [
    "# 시저 암호\n",
    "\n",
    "def solution(s, n):\n",
    "    answer = ''\n",
    "    for i in range(len(s)):\n",
    "        if ord(s[i])+n > ord(\"Z\") and ord(s[i]) <= ord(\"Z\"):\n",
    "            answer += chr(ord(s[i])+n-ord(\"Z\")+ord(\"A\")-1)\n",
    "        elif ord(s[i])+n > ord(\"z\") and ord(s[i]) <= ord(\"z\"):\n",
    "            answer += chr(ord(s[i])+n-ord(\"z\")+ord(\"a\")-1)\n",
    "        elif s[i] == \" \":\n",
    "            answer += \" \"\n",
    "        else:\n",
    "            answer += chr(ord(s[i])+n)\n",
    "    return answer"
   ]
  },
  {
   "cell_type": "code",
   "execution_count": 158,
   "metadata": {},
   "outputs": [],
   "source": [
    "# 최소직사각형\n",
    "\n",
    "def solution(sizes):\n",
    "    answer = 0\n",
    "    for i in range(len(sizes)):\n",
    "        if sizes[i][1] > sizes[i][0]:\n",
    "            sizes[i][0], sizes[i][1] = sizes[i][1], sizes[i][0]\n",
    "    w, h = max(sizes,key=lambda x: x[0])[0], max(sizes,key=lambda x: x[1])[1]\n",
    "    answer = w*h\n",
    "    return answer"
   ]
  }
 ],
 "metadata": {
  "kernelspec": {
   "display_name": "base",
   "language": "python",
   "name": "python3"
  },
  "language_info": {
   "codemirror_mode": {
    "name": "ipython",
    "version": 3
   },
   "file_extension": ".py",
   "mimetype": "text/x-python",
   "name": "python",
   "nbconvert_exporter": "python",
   "pygments_lexer": "ipython3",
   "version": "3.9.13"
  },
  "orig_nbformat": 4
 },
 "nbformat": 4,
 "nbformat_minor": 2
}
